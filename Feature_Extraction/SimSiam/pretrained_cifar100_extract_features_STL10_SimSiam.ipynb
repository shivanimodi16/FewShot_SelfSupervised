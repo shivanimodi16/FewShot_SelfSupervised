{
  "nbformat": 4,
  "nbformat_minor": 0,
  "metadata": {
    "colab": {
      "name": "pretrained_cifar100_extract_features_newdataset.ipynb",
      "provenance": [],
      "collapsed_sections": []
    },
    "kernelspec": {
      "name": "python3",
      "display_name": "Python 3"
    },
    "language_info": {
      "name": "python"
    },
    "accelerator": "GPU",
    "widgets": {
      "application/vnd.jupyter.widget-state+json": {
        "e4a7aa7f7d5d44bcb8c02ff5848af7e9": {
          "model_module": "@jupyter-widgets/controls",
          "model_name": "HBoxModel",
          "model_module_version": "1.5.0",
          "state": {
            "_view_name": "HBoxView",
            "_dom_classes": [],
            "_model_name": "HBoxModel",
            "_view_module": "@jupyter-widgets/controls",
            "_model_module_version": "1.5.0",
            "_view_count": null,
            "_view_module_version": "1.5.0",
            "box_style": "",
            "layout": "IPY_MODEL_3b61bbfed8104542adf7b1377abb5f97",
            "_model_module": "@jupyter-widgets/controls",
            "children": [
              "IPY_MODEL_341982ebaaa148f3b94e508d926b6829",
              "IPY_MODEL_05d4da9bd7264948a61439d8eee0b04f",
              "IPY_MODEL_edd21259611d4333adb9404c46773d29"
            ]
          }
        },
        "3b61bbfed8104542adf7b1377abb5f97": {
          "model_module": "@jupyter-widgets/base",
          "model_name": "LayoutModel",
          "model_module_version": "1.2.0",
          "state": {
            "_view_name": "LayoutView",
            "grid_template_rows": null,
            "right": null,
            "justify_content": null,
            "_view_module": "@jupyter-widgets/base",
            "overflow": null,
            "_model_module_version": "1.2.0",
            "_view_count": null,
            "flex_flow": null,
            "width": null,
            "min_width": null,
            "border": null,
            "align_items": null,
            "bottom": null,
            "_model_module": "@jupyter-widgets/base",
            "top": null,
            "grid_column": null,
            "overflow_y": null,
            "overflow_x": null,
            "grid_auto_flow": null,
            "grid_area": null,
            "grid_template_columns": null,
            "flex": null,
            "_model_name": "LayoutModel",
            "justify_items": null,
            "grid_row": null,
            "max_height": null,
            "align_content": null,
            "visibility": null,
            "align_self": null,
            "height": null,
            "min_height": null,
            "padding": null,
            "grid_auto_rows": null,
            "grid_gap": null,
            "max_width": null,
            "order": null,
            "_view_module_version": "1.2.0",
            "grid_template_areas": null,
            "object_position": null,
            "object_fit": null,
            "grid_auto_columns": null,
            "margin": null,
            "display": null,
            "left": null
          }
        },
        "341982ebaaa148f3b94e508d926b6829": {
          "model_module": "@jupyter-widgets/controls",
          "model_name": "HTMLModel",
          "model_module_version": "1.5.0",
          "state": {
            "_view_name": "HTMLView",
            "style": "IPY_MODEL_08b65546236247aebe801a8e01511d9c",
            "_dom_classes": [],
            "description": "",
            "_model_name": "HTMLModel",
            "placeholder": "​",
            "_view_module": "@jupyter-widgets/controls",
            "_model_module_version": "1.5.0",
            "value": "",
            "_view_count": null,
            "_view_module_version": "1.5.0",
            "description_tooltip": null,
            "_model_module": "@jupyter-widgets/controls",
            "layout": "IPY_MODEL_31fef27e0ecd4f6d958f95fbc209b3b5"
          }
        },
        "05d4da9bd7264948a61439d8eee0b04f": {
          "model_module": "@jupyter-widgets/controls",
          "model_name": "FloatProgressModel",
          "model_module_version": "1.5.0",
          "state": {
            "_view_name": "ProgressView",
            "style": "IPY_MODEL_a3b7d242310c4731bb016e622c78be10",
            "_dom_classes": [],
            "description": "",
            "_model_name": "FloatProgressModel",
            "bar_style": "success",
            "max": 2640397119,
            "_view_module": "@jupyter-widgets/controls",
            "_model_module_version": "1.5.0",
            "value": 2640397119,
            "_view_count": null,
            "_view_module_version": "1.5.0",
            "orientation": "horizontal",
            "min": 0,
            "description_tooltip": null,
            "_model_module": "@jupyter-widgets/controls",
            "layout": "IPY_MODEL_5d1b3b36979c4df39cc3bfb9589f9939"
          }
        },
        "edd21259611d4333adb9404c46773d29": {
          "model_module": "@jupyter-widgets/controls",
          "model_name": "HTMLModel",
          "model_module_version": "1.5.0",
          "state": {
            "_view_name": "HTMLView",
            "style": "IPY_MODEL_1a3d33cd868040ae855d6507a9d3df0c",
            "_dom_classes": [],
            "description": "",
            "_model_name": "HTMLModel",
            "placeholder": "​",
            "_view_module": "@jupyter-widgets/controls",
            "_model_module_version": "1.5.0",
            "value": " 2640397312/? [00:54&lt;00:00, 40225608.54it/s]",
            "_view_count": null,
            "_view_module_version": "1.5.0",
            "description_tooltip": null,
            "_model_module": "@jupyter-widgets/controls",
            "layout": "IPY_MODEL_f82bf326fa80421bb37f39610dabfc2c"
          }
        },
        "08b65546236247aebe801a8e01511d9c": {
          "model_module": "@jupyter-widgets/controls",
          "model_name": "DescriptionStyleModel",
          "model_module_version": "1.5.0",
          "state": {
            "_view_name": "StyleView",
            "_model_name": "DescriptionStyleModel",
            "description_width": "",
            "_view_module": "@jupyter-widgets/base",
            "_model_module_version": "1.5.0",
            "_view_count": null,
            "_view_module_version": "1.2.0",
            "_model_module": "@jupyter-widgets/controls"
          }
        },
        "31fef27e0ecd4f6d958f95fbc209b3b5": {
          "model_module": "@jupyter-widgets/base",
          "model_name": "LayoutModel",
          "model_module_version": "1.2.0",
          "state": {
            "_view_name": "LayoutView",
            "grid_template_rows": null,
            "right": null,
            "justify_content": null,
            "_view_module": "@jupyter-widgets/base",
            "overflow": null,
            "_model_module_version": "1.2.0",
            "_view_count": null,
            "flex_flow": null,
            "width": null,
            "min_width": null,
            "border": null,
            "align_items": null,
            "bottom": null,
            "_model_module": "@jupyter-widgets/base",
            "top": null,
            "grid_column": null,
            "overflow_y": null,
            "overflow_x": null,
            "grid_auto_flow": null,
            "grid_area": null,
            "grid_template_columns": null,
            "flex": null,
            "_model_name": "LayoutModel",
            "justify_items": null,
            "grid_row": null,
            "max_height": null,
            "align_content": null,
            "visibility": null,
            "align_self": null,
            "height": null,
            "min_height": null,
            "padding": null,
            "grid_auto_rows": null,
            "grid_gap": null,
            "max_width": null,
            "order": null,
            "_view_module_version": "1.2.0",
            "grid_template_areas": null,
            "object_position": null,
            "object_fit": null,
            "grid_auto_columns": null,
            "margin": null,
            "display": null,
            "left": null
          }
        },
        "a3b7d242310c4731bb016e622c78be10": {
          "model_module": "@jupyter-widgets/controls",
          "model_name": "ProgressStyleModel",
          "model_module_version": "1.5.0",
          "state": {
            "_view_name": "StyleView",
            "_model_name": "ProgressStyleModel",
            "description_width": "",
            "_view_module": "@jupyter-widgets/base",
            "_model_module_version": "1.5.0",
            "_view_count": null,
            "_view_module_version": "1.2.0",
            "bar_color": null,
            "_model_module": "@jupyter-widgets/controls"
          }
        },
        "5d1b3b36979c4df39cc3bfb9589f9939": {
          "model_module": "@jupyter-widgets/base",
          "model_name": "LayoutModel",
          "model_module_version": "1.2.0",
          "state": {
            "_view_name": "LayoutView",
            "grid_template_rows": null,
            "right": null,
            "justify_content": null,
            "_view_module": "@jupyter-widgets/base",
            "overflow": null,
            "_model_module_version": "1.2.0",
            "_view_count": null,
            "flex_flow": null,
            "width": null,
            "min_width": null,
            "border": null,
            "align_items": null,
            "bottom": null,
            "_model_module": "@jupyter-widgets/base",
            "top": null,
            "grid_column": null,
            "overflow_y": null,
            "overflow_x": null,
            "grid_auto_flow": null,
            "grid_area": null,
            "grid_template_columns": null,
            "flex": null,
            "_model_name": "LayoutModel",
            "justify_items": null,
            "grid_row": null,
            "max_height": null,
            "align_content": null,
            "visibility": null,
            "align_self": null,
            "height": null,
            "min_height": null,
            "padding": null,
            "grid_auto_rows": null,
            "grid_gap": null,
            "max_width": null,
            "order": null,
            "_view_module_version": "1.2.0",
            "grid_template_areas": null,
            "object_position": null,
            "object_fit": null,
            "grid_auto_columns": null,
            "margin": null,
            "display": null,
            "left": null
          }
        },
        "1a3d33cd868040ae855d6507a9d3df0c": {
          "model_module": "@jupyter-widgets/controls",
          "model_name": "DescriptionStyleModel",
          "model_module_version": "1.5.0",
          "state": {
            "_view_name": "StyleView",
            "_model_name": "DescriptionStyleModel",
            "description_width": "",
            "_view_module": "@jupyter-widgets/base",
            "_model_module_version": "1.5.0",
            "_view_count": null,
            "_view_module_version": "1.2.0",
            "_model_module": "@jupyter-widgets/controls"
          }
        },
        "f82bf326fa80421bb37f39610dabfc2c": {
          "model_module": "@jupyter-widgets/base",
          "model_name": "LayoutModel",
          "model_module_version": "1.2.0",
          "state": {
            "_view_name": "LayoutView",
            "grid_template_rows": null,
            "right": null,
            "justify_content": null,
            "_view_module": "@jupyter-widgets/base",
            "overflow": null,
            "_model_module_version": "1.2.0",
            "_view_count": null,
            "flex_flow": null,
            "width": null,
            "min_width": null,
            "border": null,
            "align_items": null,
            "bottom": null,
            "_model_module": "@jupyter-widgets/base",
            "top": null,
            "grid_column": null,
            "overflow_y": null,
            "overflow_x": null,
            "grid_auto_flow": null,
            "grid_area": null,
            "grid_template_columns": null,
            "flex": null,
            "_model_name": "LayoutModel",
            "justify_items": null,
            "grid_row": null,
            "max_height": null,
            "align_content": null,
            "visibility": null,
            "align_self": null,
            "height": null,
            "min_height": null,
            "padding": null,
            "grid_auto_rows": null,
            "grid_gap": null,
            "max_width": null,
            "order": null,
            "_view_module_version": "1.2.0",
            "grid_template_areas": null,
            "object_position": null,
            "object_fit": null,
            "grid_auto_columns": null,
            "margin": null,
            "display": null,
            "left": null
          }
        }
      }
    }
  },
  "cells": [
    {
      "cell_type": "code",
      "metadata": {
        "colab": {
          "base_uri": "https://localhost:8080/"
        },
        "id": "lYF8vPYqcJ-6",
        "outputId": "905c019e-f0b1-4941-e0f0-ea8bbb0ba41f"
      },
      "source": [
        "import os\n",
        "os.environ['CUDA_LAUNCH_BLOCKING'] = '1'\n",
        "\n",
        "import torch\n",
        "from torch.autograd import Variable\n",
        "from torch.utils.data import DataLoader\n",
        "from torchvision import datasets\n",
        "from torchvision.transforms import ToTensor, Lambda, Compose\n",
        "import matplotlib.pyplot as plt\n",
        "from torch.utils.data import random_split\n",
        "from torchvision.utils import make_grid\n",
        "import torchvision\n",
        "import torchvision.transforms as transforms\n",
        "from torchvision.datasets.utils import download_url\n",
        "from google.colab import drive\n",
        "import torch.backends.cudnn as cudnn\n",
        "import torch.nn as nn\n",
        "import torch.nn.functional as F\n",
        "from torch.utils.data.sampler import SubsetRandomSampler\n",
        "import numpy as np\n",
        "from google.colab import files\n",
        "from torchvision import models\n",
        "from torchsummary import summary\n",
        "from glob import glob\n",
        "import re\n",
        "from itertools import compress\n",
        "import pandas as pd\n",
        "from torchvision.models.feature_extraction import create_feature_extractor\n",
        "\n",
        "torch.manual_seed(0)\n"
      ],
      "execution_count": null,
      "outputs": [
        {
          "output_type": "execute_result",
          "data": {
            "text/plain": [
              "<torch._C.Generator at 0x7fd03e947310>"
            ]
          },
          "metadata": {},
          "execution_count": 1
        }
      ]
    },
    {
      "cell_type": "code",
      "source": [
        "import torch\n",
        "import torch.nn as nn\n",
        "import torch.nn.functional as F\n",
        "from torch.optim import Adam\n",
        "from torch.optim.lr_scheduler import LambdaLR\n",
        "from torch.utils.data import DataLoader, SubsetRandomSampler\n",
        "from torchvision.datasets import CIFAR10, STL10\n",
        "from torchvision import transforms\n",
        "from torchvision.models import resnet18, resnet34\n",
        "from tqdm import tqdm"
      ],
      "metadata": {
        "id": "pHovx3yFDT5r"
      },
      "execution_count": null,
      "outputs": []
    },
    {
      "cell_type": "code",
      "source": [
        "from torchvision.models.feature_extraction import get_graph_node_names"
      ],
      "metadata": {
        "id": "RJVxGwbo55QW"
      },
      "execution_count": null,
      "outputs": []
    },
    {
      "cell_type": "code",
      "metadata": {
        "colab": {
          "base_uri": "https://localhost:8080/"
        },
        "id": "GKudmFIEOUSM",
        "outputId": "38c0db1b-29c2-41df-f742-7d99243412e1"
      },
      "source": [
        "!git clone https://github.com/samirchar/selfSupervised_fewShot.git\n",
        "from selfSupervised_fewShot.dataprep import *"
      ],
      "execution_count": null,
      "outputs": [
        {
          "output_type": "stream",
          "name": "stdout",
          "text": [
            "Cloning into 'selfSupervised_fewShot'...\n",
            "remote: Enumerating objects: 28, done.\u001b[K\n",
            "remote: Counting objects: 100% (6/6), done.\u001b[K\n",
            "remote: Compressing objects: 100% (5/5), done.\u001b[K\n",
            "remote: Total 28 (delta 0), reused 6 (delta 0), pack-reused 22\u001b[K\n",
            "Unpacking objects: 100% (28/28), done.\n"
          ]
        }
      ]
    },
    {
      "cell_type": "code",
      "metadata": {
        "id": "p5EJuoxjkrzA"
      },
      "source": [
        "target_dataset = 'STL10'\n",
        "source_dataset = 'CIFAR100'\n",
        "\n",
        "img_size = 32\n",
        "train_batch_size = 512\n",
        "test_batch_size = 512\n",
        "num_workers = 2\n",
        "\n",
        "source_root = f'simsiam_best_resnet18.pt'\n",
        "lincls_path = f'lincls_on_{target_dataset.lower()}'\n",
        "if not os.path.exists(lincls_path):\n",
        "  os.mkdir(lincls_path)"
      ],
      "execution_count": null,
      "outputs": []
    },
    {
      "cell_type": "code",
      "source": [
        "class PairTransform:\n",
        "    \"\"\"Transform an image two times, one serving as the query and other as key.\"\"\"\n",
        "\n",
        "    def __init__(self, transform):\n",
        "        self.transform = transform\n",
        "\n",
        "    def __call__(self, x):\n",
        "        q = self.transform(x)\n",
        "        k = self.transform(x)\n",
        "        return [q, k]"
      ],
      "metadata": {
        "id": "OcBlyaV51L-w"
      },
      "execution_count": null,
      "outputs": []
    },
    {
      "cell_type": "code",
      "metadata": {
        "colab": {
          "base_uri": "https://localhost:8080/",
          "height": 161,
          "referenced_widgets": [
            "e4a7aa7f7d5d44bcb8c02ff5848af7e9",
            "3b61bbfed8104542adf7b1377abb5f97",
            "341982ebaaa148f3b94e508d926b6829",
            "05d4da9bd7264948a61439d8eee0b04f",
            "edd21259611d4333adb9404c46773d29",
            "08b65546236247aebe801a8e01511d9c",
            "31fef27e0ecd4f6d958f95fbc209b3b5",
            "a3b7d242310c4731bb016e622c78be10",
            "5d1b3b36979c4df39cc3bfb9589f9939",
            "1a3d33cd868040ae855d6507a9d3df0c",
            "f82bf326fa80421bb37f39610dabfc2c"
          ]
        },
        "id": "aXFG7YLFbJ5I",
        "outputId": "59c24997-d884-4c70-e063-02b3b2639f7b"
      },
      "source": [
        "#Train/test transforms\n",
        "transform_train = transforms.Compose([\n",
        "            transforms.Resize(32),\n",
        "            transforms.RandomResizedCrop(32, scale=(0.2, 1.)),\n",
        "            transforms.RandomHorizontalFlip(),\n",
        "            transforms.RandomApply([transforms.ColorJitter(0.4,0.4,0.4,0.1)], p=0.8),\n",
        "            transforms.RandomGrayscale(p=0.2),\n",
        "            transforms.ToTensor(),\n",
        "            transforms.Normalize((0.5071, 0.4867, 0.4408),(0.2675, 0.2565, 0.2761))])\n",
        "            #transforms.Normalize((0.4914, 0.4822, 0.4465), (0.2471, 0.2435, 0.2616))])\n",
        "\n",
        "transform_test = transforms.Compose([\n",
        "    transforms.Resize(32),                                \n",
        "    transforms.ToTensor(),\n",
        "    transforms.Normalize((0.5071, 0.4867, 0.4408), (0.2675, 0.2565, 0.2761))])\n",
        "\n",
        "trainset = STL10(root='datastl',split=\"train\",\n",
        "                                 download=True,\n",
        "                                 transform=PairTransform(transform_train))\n",
        "\n",
        "trainloader = DataLoader(trainset,\n",
        "                          batch_size=512,\n",
        "                          shuffle=True,\n",
        "                          num_workers=4,\n",
        "                          drop_last=True,\n",
        "                          pin_memory=True)\n",
        "\n",
        "\n",
        "testset = STL10(root='datastl',split=\"test\", transform=PairTransform(transform_test), download=True)"
      ],
      "execution_count": null,
      "outputs": [
        {
          "output_type": "stream",
          "name": "stdout",
          "text": [
            "Downloading http://ai.stanford.edu/~acoates/stl10/stl10_binary.tar.gz to datastl/stl10_binary.tar.gz\n"
          ]
        },
        {
          "output_type": "display_data",
          "data": {
            "application/vnd.jupyter.widget-view+json": {
              "model_id": "e4a7aa7f7d5d44bcb8c02ff5848af7e9",
              "version_minor": 0,
              "version_major": 2
            },
            "text/plain": [
              "  0%|          | 0/2640397119 [00:00<?, ?it/s]"
            ]
          },
          "metadata": {}
        },
        {
          "output_type": "stream",
          "name": "stdout",
          "text": [
            "Extracting datastl/stl10_binary.tar.gz to datastl\n"
          ]
        },
        {
          "output_type": "stream",
          "name": "stderr",
          "text": [
            "/usr/local/lib/python3.7/dist-packages/torch/utils/data/dataloader.py:481: UserWarning: This DataLoader will create 4 worker processes in total. Our suggested max number of worker in current system is 2, which is smaller than what this DataLoader is going to create. Please be aware that excessive worker creation might get DataLoader running slow or even freeze, lower the worker number to avoid potential slowness/freeze if necessary.\n",
            "  cpuset_checked))\n"
          ]
        },
        {
          "output_type": "stream",
          "name": "stdout",
          "text": [
            "Files already downloaded and verified\n"
          ]
        }
      ]
    },
    {
      "cell_type": "code",
      "metadata": {
        "id": "UiasBYL6ZuXB"
      },
      "source": [
        "test_loader = DataLoader(testset, batch_size=512, shuffle=False)"
      ],
      "execution_count": null,
      "outputs": []
    },
    {
      "cell_type": "code",
      "source": [
        "# Defining for classes required for SimSiam Model\n",
        "\n",
        "class prediction_layer(nn.Module):\n",
        "  def __init__(self, input_d=2048, hidden_d=512, output_d=2048):  \n",
        "    super().__init__()\n",
        "    self.layer1 = nn.Sequential(\n",
        "        nn.Linear(input_d, hidden_d),\n",
        "        nn.BatchNorm1d(hidden_d),\n",
        "        nn.ReLU(inplace=True)\n",
        "    )\n",
        "    self.layer2 = nn.Linear(hidden_d, output_d)\n",
        "\n",
        "  def forward(self, x):\n",
        "    x = self.layer1(x)\n",
        "    x = self.layer2(x)\n",
        "    return x\n",
        "\n",
        "class projection_layer(nn.Module):\n",
        "  def __init__(self, input_d, hidden_d=2048, output_d=2048): \n",
        "    super().__init__()\n",
        "    self.layer1 = nn.Sequential(\n",
        "        nn.Linear(input_d, hidden_d),\n",
        "        nn.BatchNorm1d(hidden_d),\n",
        "        nn.ReLU(inplace=True)\n",
        "    )\n",
        "    self.layer2 = nn.Identity() # for CIFAR datasets, we only use Identity for second layer\n",
        "    self.layer3 = nn.Sequential(\n",
        "        nn.Linear(hidden_d, output_d),\n",
        "        nn.BatchNorm1d(output_d, affine=False)\n",
        "    )\n",
        "\n",
        "  def forward(self, x):\n",
        "    x = self.layer1(x)\n",
        "    x = self.layer2(x)\n",
        "    x = self.layer3(x)\n",
        "    return x\n",
        "\n",
        "class SimSiam(nn.Module):\n",
        "  def __init__(self, base_encoder):\n",
        "    super().__init__()\n",
        "\n",
        "    self.backbone = base_encoder(pretrained=False)  \n",
        "    self.feature_dim = self.backbone.fc.in_features\n",
        "    out_dim = self.backbone.fc.in_features\n",
        "    self.backbone.conv1 = nn.Conv2d(3, 64, 3, 1, 1, bias=False)\n",
        "    self.backbone.maxpool = nn.Identity()\n",
        "    self.backbone.fc = nn.Identity()  \n",
        "    self.projector = projection_layer(out_dim)\n",
        "    self.predictor = prediction_layer()\n",
        "\n",
        "  def forward(self, x1, x2):\n",
        "\n",
        "    bb = self.backbone\n",
        "    f = self.projector\n",
        "    h =  self.predictor\n",
        "\n",
        "    bb1, bb2 = bb(x1), bb(x2)\n",
        "    z1, z2 = f(bb1), f(bb2)\n",
        "    p1, p2 = h(z1), h(z2)\n",
        "    \n",
        "    return {'z1': z1, 'z2': z2, 'p1': p1, 'p2': p2}"
      ],
      "metadata": {
        "id": "fpq7LLKm8mAC"
      },
      "execution_count": null,
      "outputs": []
    },
    {
      "cell_type": "code",
      "metadata": {
        "id": "Ud2WdqVlBMK_",
        "colab": {
          "base_uri": "https://localhost:8080/"
        },
        "outputId": "d85465b0-2ac4-4e0a-dea4-43739d70211b"
      },
      "source": [
        "#Load pretrained model on CIFAR100\n",
        "device = \"cuda\" if torch.cuda.is_available() else \"cpu\"\n",
        "backbone = 'resnet18'\n",
        "base_encoder = eval(backbone)\n",
        "pre_model = SimSiam(base_encoder).cuda()\n",
        "pre_model.load_state_dict(torch.load('simsiam_best_resnet18.pt'))"
      ],
      "execution_count": null,
      "outputs": [
        {
          "output_type": "execute_result",
          "data": {
            "text/plain": [
              "<All keys matched successfully>"
            ]
          },
          "metadata": {},
          "execution_count": 10
        }
      ]
    },
    {
      "cell_type": "code",
      "source": [
        "nodes, _ = get_graph_node_names(pre_model)\n",
        "print(nodes)"
      ],
      "metadata": {
        "colab": {
          "base_uri": "https://localhost:8080/"
        },
        "id": "AJikbRoh59si",
        "outputId": "124c4b66-9290-42c9-f242-59090e26a4a8"
      },
      "execution_count": null,
      "outputs": [
        {
          "output_type": "stream",
          "name": "stdout",
          "text": [
            "['x1', 'x2', 'backbone.conv1', 'backbone.bn1', 'backbone.relu', 'backbone.maxpool', 'backbone.layer1.0.conv1', 'backbone.layer1.0.bn1', 'backbone.layer1.0.relu', 'backbone.layer1.0.conv2', 'backbone.layer1.0.bn2', 'backbone.layer1.0.add', 'backbone.layer1.0.relu_1', 'backbone.layer1.1.conv1', 'backbone.layer1.1.bn1', 'backbone.layer1.1.relu', 'backbone.layer1.1.conv2', 'backbone.layer1.1.bn2', 'backbone.layer1.1.add', 'backbone.layer1.1.relu_1', 'backbone.layer2.0.conv1', 'backbone.layer2.0.bn1', 'backbone.layer2.0.relu', 'backbone.layer2.0.conv2', 'backbone.layer2.0.bn2', 'backbone.layer2.0.downsample.0', 'backbone.layer2.0.downsample.1', 'backbone.layer2.0.add', 'backbone.layer2.0.relu_1', 'backbone.layer2.1.conv1', 'backbone.layer2.1.bn1', 'backbone.layer2.1.relu', 'backbone.layer2.1.conv2', 'backbone.layer2.1.bn2', 'backbone.layer2.1.add', 'backbone.layer2.1.relu_1', 'backbone.layer3.0.conv1', 'backbone.layer3.0.bn1', 'backbone.layer3.0.relu', 'backbone.layer3.0.conv2', 'backbone.layer3.0.bn2', 'backbone.layer3.0.downsample.0', 'backbone.layer3.0.downsample.1', 'backbone.layer3.0.add', 'backbone.layer3.0.relu_1', 'backbone.layer3.1.conv1', 'backbone.layer3.1.bn1', 'backbone.layer3.1.relu', 'backbone.layer3.1.conv2', 'backbone.layer3.1.bn2', 'backbone.layer3.1.add', 'backbone.layer3.1.relu_1', 'backbone.layer4.0.conv1', 'backbone.layer4.0.bn1', 'backbone.layer4.0.relu', 'backbone.layer4.0.conv2', 'backbone.layer4.0.bn2', 'backbone.layer4.0.downsample.0', 'backbone.layer4.0.downsample.1', 'backbone.layer4.0.add', 'backbone.layer4.0.relu_1', 'backbone.layer4.1.conv1', 'backbone.layer4.1.bn1', 'backbone.layer4.1.relu', 'backbone.layer4.1.conv2', 'backbone.layer4.1.bn2', 'backbone.layer4.1.add', 'backbone.layer4.1.relu_1', 'backbone.avgpool', 'backbone.flatten', 'backbone.fc', 'backbone.conv1_1', 'backbone.bn1_1', 'backbone.relu_1', 'backbone.maxpool_1', 'backbone.layer1.0.conv1_1', 'backbone.layer1.0.bn1_1', 'backbone.layer1.0.relu_2', 'backbone.layer1.0.conv2_1', 'backbone.layer1.0.bn2_1', 'backbone.layer1.0.add_1', 'backbone.layer1.0.relu_3', 'backbone.layer1.1.conv1_1', 'backbone.layer1.1.bn1_1', 'backbone.layer1.1.relu_2', 'backbone.layer1.1.conv2_1', 'backbone.layer1.1.bn2_1', 'backbone.layer1.1.add_1', 'backbone.layer1.1.relu_3', 'backbone.layer2.0.conv1_1', 'backbone.layer2.0.bn1_1', 'backbone.layer2.0.relu_2', 'backbone.layer2.0.conv2_1', 'backbone.layer2.0.bn2_1', 'backbone.layer2.0.downsample.0_1', 'backbone.layer2.0.downsample.1_1', 'backbone.layer2.0.add_1', 'backbone.layer2.0.relu_3', 'backbone.layer2.1.conv1_1', 'backbone.layer2.1.bn1_1', 'backbone.layer2.1.relu_2', 'backbone.layer2.1.conv2_1', 'backbone.layer2.1.bn2_1', 'backbone.layer2.1.add_1', 'backbone.layer2.1.relu_3', 'backbone.layer3.0.conv1_1', 'backbone.layer3.0.bn1_1', 'backbone.layer3.0.relu_2', 'backbone.layer3.0.conv2_1', 'backbone.layer3.0.bn2_1', 'backbone.layer3.0.downsample.0_1', 'backbone.layer3.0.downsample.1_1', 'backbone.layer3.0.add_1', 'backbone.layer3.0.relu_3', 'backbone.layer3.1.conv1_1', 'backbone.layer3.1.bn1_1', 'backbone.layer3.1.relu_2', 'backbone.layer3.1.conv2_1', 'backbone.layer3.1.bn2_1', 'backbone.layer3.1.add_1', 'backbone.layer3.1.relu_3', 'backbone.layer4.0.conv1_1', 'backbone.layer4.0.bn1_1', 'backbone.layer4.0.relu_2', 'backbone.layer4.0.conv2_1', 'backbone.layer4.0.bn2_1', 'backbone.layer4.0.downsample.0_1', 'backbone.layer4.0.downsample.1_1', 'backbone.layer4.0.add_1', 'backbone.layer4.0.relu_3', 'backbone.layer4.1.conv1_1', 'backbone.layer4.1.bn1_1', 'backbone.layer4.1.relu_2', 'backbone.layer4.1.conv2_1', 'backbone.layer4.1.bn2_1', 'backbone.layer4.1.add_1', 'backbone.layer4.1.relu_3', 'backbone.avgpool_1', 'backbone.flatten_1', 'backbone.fc_1', 'projector.layer1.0', 'projector.layer1.1', 'projector.layer1.2', 'projector.layer2', 'projector.layer3.0', 'projector.layer3.1', 'projector.layer1.0_1', 'projector.layer1.1_1', 'projector.layer1.2_1', 'projector.layer2_1', 'projector.layer3.0_1', 'projector.layer3.1_1', 'predictor.layer1.0', 'predictor.layer1.1', 'predictor.layer1.2', 'predictor.layer2', 'predictor.layer1.0_1', 'predictor.layer1.1_1', 'predictor.layer1.2_1', 'predictor.layer2_1']\n"
          ]
        }
      ]
    },
    {
      "cell_type": "code",
      "source": [
        "print(pre_model)"
      ],
      "metadata": {
        "colab": {
          "base_uri": "https://localhost:8080/"
        },
        "id": "1m6yC2sFv3An",
        "outputId": "d1103fce-ea7c-4ec8-c23b-2766e410ab9c"
      },
      "execution_count": null,
      "outputs": [
        {
          "output_type": "stream",
          "name": "stdout",
          "text": [
            "SimSiam(\n",
            "  (backbone): ResNet(\n",
            "    (conv1): Conv2d(3, 64, kernel_size=(3, 3), stride=(1, 1), padding=(1, 1), bias=False)\n",
            "    (bn1): BatchNorm2d(64, eps=1e-05, momentum=0.1, affine=True, track_running_stats=True)\n",
            "    (relu): ReLU(inplace=True)\n",
            "    (maxpool): Identity()\n",
            "    (layer1): Sequential(\n",
            "      (0): BasicBlock(\n",
            "        (conv1): Conv2d(64, 64, kernel_size=(3, 3), stride=(1, 1), padding=(1, 1), bias=False)\n",
            "        (bn1): BatchNorm2d(64, eps=1e-05, momentum=0.1, affine=True, track_running_stats=True)\n",
            "        (relu): ReLU(inplace=True)\n",
            "        (conv2): Conv2d(64, 64, kernel_size=(3, 3), stride=(1, 1), padding=(1, 1), bias=False)\n",
            "        (bn2): BatchNorm2d(64, eps=1e-05, momentum=0.1, affine=True, track_running_stats=True)\n",
            "      )\n",
            "      (1): BasicBlock(\n",
            "        (conv1): Conv2d(64, 64, kernel_size=(3, 3), stride=(1, 1), padding=(1, 1), bias=False)\n",
            "        (bn1): BatchNorm2d(64, eps=1e-05, momentum=0.1, affine=True, track_running_stats=True)\n",
            "        (relu): ReLU(inplace=True)\n",
            "        (conv2): Conv2d(64, 64, kernel_size=(3, 3), stride=(1, 1), padding=(1, 1), bias=False)\n",
            "        (bn2): BatchNorm2d(64, eps=1e-05, momentum=0.1, affine=True, track_running_stats=True)\n",
            "      )\n",
            "    )\n",
            "    (layer2): Sequential(\n",
            "      (0): BasicBlock(\n",
            "        (conv1): Conv2d(64, 128, kernel_size=(3, 3), stride=(2, 2), padding=(1, 1), bias=False)\n",
            "        (bn1): BatchNorm2d(128, eps=1e-05, momentum=0.1, affine=True, track_running_stats=True)\n",
            "        (relu): ReLU(inplace=True)\n",
            "        (conv2): Conv2d(128, 128, kernel_size=(3, 3), stride=(1, 1), padding=(1, 1), bias=False)\n",
            "        (bn2): BatchNorm2d(128, eps=1e-05, momentum=0.1, affine=True, track_running_stats=True)\n",
            "        (downsample): Sequential(\n",
            "          (0): Conv2d(64, 128, kernel_size=(1, 1), stride=(2, 2), bias=False)\n",
            "          (1): BatchNorm2d(128, eps=1e-05, momentum=0.1, affine=True, track_running_stats=True)\n",
            "        )\n",
            "      )\n",
            "      (1): BasicBlock(\n",
            "        (conv1): Conv2d(128, 128, kernel_size=(3, 3), stride=(1, 1), padding=(1, 1), bias=False)\n",
            "        (bn1): BatchNorm2d(128, eps=1e-05, momentum=0.1, affine=True, track_running_stats=True)\n",
            "        (relu): ReLU(inplace=True)\n",
            "        (conv2): Conv2d(128, 128, kernel_size=(3, 3), stride=(1, 1), padding=(1, 1), bias=False)\n",
            "        (bn2): BatchNorm2d(128, eps=1e-05, momentum=0.1, affine=True, track_running_stats=True)\n",
            "      )\n",
            "    )\n",
            "    (layer3): Sequential(\n",
            "      (0): BasicBlock(\n",
            "        (conv1): Conv2d(128, 256, kernel_size=(3, 3), stride=(2, 2), padding=(1, 1), bias=False)\n",
            "        (bn1): BatchNorm2d(256, eps=1e-05, momentum=0.1, affine=True, track_running_stats=True)\n",
            "        (relu): ReLU(inplace=True)\n",
            "        (conv2): Conv2d(256, 256, kernel_size=(3, 3), stride=(1, 1), padding=(1, 1), bias=False)\n",
            "        (bn2): BatchNorm2d(256, eps=1e-05, momentum=0.1, affine=True, track_running_stats=True)\n",
            "        (downsample): Sequential(\n",
            "          (0): Conv2d(128, 256, kernel_size=(1, 1), stride=(2, 2), bias=False)\n",
            "          (1): BatchNorm2d(256, eps=1e-05, momentum=0.1, affine=True, track_running_stats=True)\n",
            "        )\n",
            "      )\n",
            "      (1): BasicBlock(\n",
            "        (conv1): Conv2d(256, 256, kernel_size=(3, 3), stride=(1, 1), padding=(1, 1), bias=False)\n",
            "        (bn1): BatchNorm2d(256, eps=1e-05, momentum=0.1, affine=True, track_running_stats=True)\n",
            "        (relu): ReLU(inplace=True)\n",
            "        (conv2): Conv2d(256, 256, kernel_size=(3, 3), stride=(1, 1), padding=(1, 1), bias=False)\n",
            "        (bn2): BatchNorm2d(256, eps=1e-05, momentum=0.1, affine=True, track_running_stats=True)\n",
            "      )\n",
            "    )\n",
            "    (layer4): Sequential(\n",
            "      (0): BasicBlock(\n",
            "        (conv1): Conv2d(256, 512, kernel_size=(3, 3), stride=(2, 2), padding=(1, 1), bias=False)\n",
            "        (bn1): BatchNorm2d(512, eps=1e-05, momentum=0.1, affine=True, track_running_stats=True)\n",
            "        (relu): ReLU(inplace=True)\n",
            "        (conv2): Conv2d(512, 512, kernel_size=(3, 3), stride=(1, 1), padding=(1, 1), bias=False)\n",
            "        (bn2): BatchNorm2d(512, eps=1e-05, momentum=0.1, affine=True, track_running_stats=True)\n",
            "        (downsample): Sequential(\n",
            "          (0): Conv2d(256, 512, kernel_size=(1, 1), stride=(2, 2), bias=False)\n",
            "          (1): BatchNorm2d(512, eps=1e-05, momentum=0.1, affine=True, track_running_stats=True)\n",
            "        )\n",
            "      )\n",
            "      (1): BasicBlock(\n",
            "        (conv1): Conv2d(512, 512, kernel_size=(3, 3), stride=(1, 1), padding=(1, 1), bias=False)\n",
            "        (bn1): BatchNorm2d(512, eps=1e-05, momentum=0.1, affine=True, track_running_stats=True)\n",
            "        (relu): ReLU(inplace=True)\n",
            "        (conv2): Conv2d(512, 512, kernel_size=(3, 3), stride=(1, 1), padding=(1, 1), bias=False)\n",
            "        (bn2): BatchNorm2d(512, eps=1e-05, momentum=0.1, affine=True, track_running_stats=True)\n",
            "      )\n",
            "    )\n",
            "    (avgpool): AdaptiveAvgPool2d(output_size=(1, 1))\n",
            "    (fc): Identity()\n",
            "  )\n",
            "  (projector): projection_layer(\n",
            "    (layer1): Sequential(\n",
            "      (0): Linear(in_features=512, out_features=2048, bias=True)\n",
            "      (1): BatchNorm1d(2048, eps=1e-05, momentum=0.1, affine=True, track_running_stats=True)\n",
            "      (2): ReLU(inplace=True)\n",
            "    )\n",
            "    (layer2): Identity()\n",
            "    (layer3): Sequential(\n",
            "      (0): Linear(in_features=2048, out_features=2048, bias=True)\n",
            "      (1): BatchNorm1d(2048, eps=1e-05, momentum=0.1, affine=False, track_running_stats=True)\n",
            "    )\n",
            "  )\n",
            "  (predictor): prediction_layer(\n",
            "    (layer1): Sequential(\n",
            "      (0): Linear(in_features=2048, out_features=512, bias=True)\n",
            "      (1): BatchNorm1d(512, eps=1e-05, momentum=0.1, affine=True, track_running_stats=True)\n",
            "      (2): ReLU(inplace=True)\n",
            "    )\n",
            "    (layer2): Linear(in_features=512, out_features=2048, bias=True)\n",
            "  )\n",
            ")\n"
          ]
        }
      ]
    },
    {
      "cell_type": "code",
      "source": [
        "def feature_extractor2(model,layer_name,dataset,device,return_target = True):\n",
        "  return_nodes = {layer_name:'output'}\n",
        "  extractor = create_feature_extractor(model,return_nodes)\n",
        "  extracted_features = []\n",
        "  targets_list = []\n",
        "  with torch.no_grad():\n",
        "    for inputs, targets in dataset:\n",
        "      inputs, targets = inputs, targets.to(device)\n",
        "      features = extractor(inputs[0].cuda(non_blocking=True),inputs[1].cuda(non_blocking=True))\n",
        "      output_features = features['output'].squeeze()\n",
        "      extracted_features.append(output_features)\n",
        "      targets_list.append(targets)\n",
        "\n",
        "  extracted_features = torch.concat(extracted_features,dim=0)\n",
        "  targets = torch.concat(targets_list,dim=0)\n",
        "  \n",
        "  if return_target:\n",
        "    print(\"Extracted features shape\", extracted_features.cpu().numpy().shape)\n",
        "    print(\"Target features shape\", targets.cpu().numpy().shape)\n",
        "    return extracted_features.cpu().numpy(),targets.cpu().numpy()\n",
        "  \n",
        "  return extracted_features.cpu().numpy()"
      ],
      "metadata": {
        "id": "FYmbkjA8itdd"
      },
      "execution_count": null,
      "outputs": []
    },
    {
      "cell_type": "code",
      "metadata": {
        "id": "phr0RoQsJkXX",
        "colab": {
          "base_uri": "https://localhost:8080/"
        },
        "outputId": "6d24d65d-eb46-4a78-b48b-2b07db95fa76"
      },
      "source": [
        "X_train,y_train = feature_extractor2(pre_model,'backbone.avgpool',trainloader,device)\n",
        "X_test,y_test = feature_extractor2(pre_model,'backbone.avgpool',test_loader,device)"
      ],
      "execution_count": null,
      "outputs": [
        {
          "output_type": "stream",
          "name": "stderr",
          "text": [
            "/usr/local/lib/python3.7/dist-packages/torch/utils/data/dataloader.py:481: UserWarning: This DataLoader will create 4 worker processes in total. Our suggested max number of worker in current system is 2, which is smaller than what this DataLoader is going to create. Please be aware that excessive worker creation might get DataLoader running slow or even freeze, lower the worker number to avoid potential slowness/freeze if necessary.\n",
            "  cpuset_checked))\n"
          ]
        },
        {
          "output_type": "stream",
          "name": "stdout",
          "text": [
            "Extracted features shape (4608, 512)\n",
            "Target features shape (4608,)\n",
            "Extracted features shape (8000, 512)\n",
            "Target features shape (8000,)\n"
          ]
        }
      ]
    },
    {
      "cell_type": "code",
      "metadata": {
        "id": "Hv_ISSf9r7PH"
      },
      "source": [
        "np.save('X_trainstl_SimSiam.npy',X_train)\n",
        "np.save('X_teststl_SimSiam.npy',X_test)\n",
        "\n",
        "np.save('y_trainstl_SimSiam.npy',y_train)\n",
        "np.save('y_teststl_SimSiam.npy',y_test)"
      ],
      "execution_count": null,
      "outputs": []
    },
    {
      "cell_type": "code",
      "metadata": {
        "id": "T0Dp2WELsEsZ"
      },
      "source": [
        ""
      ],
      "execution_count": null,
      "outputs": []
    }
  ]
}